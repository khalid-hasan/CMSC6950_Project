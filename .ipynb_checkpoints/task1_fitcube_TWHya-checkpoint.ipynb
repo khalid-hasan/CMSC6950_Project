{
 "cells": [
  {
   "cell_type": "code",
   "execution_count": 1,
   "id": "4d1fc7c2",
   "metadata": {},
   "outputs": [
    {
     "name": "stdout",
     "output_type": "stream",
     "text": [
      "Requirement already satisfied: astro-eddy==1.2.2 in c:\\users\\asus\\anaconda3\\lib\\site-packages (1.2.2)\n",
      "Requirement already satisfied: corner>=2 in c:\\users\\asus\\anaconda3\\lib\\site-packages (from astro-eddy==1.2.2) (2.2.1)\n",
      "Requirement already satisfied: scipy>=1 in c:\\users\\asus\\anaconda3\\lib\\site-packages (from astro-eddy==1.2.2) (1.6.2)\n",
      "Requirement already satisfied: numpy in c:\\users\\asus\\anaconda3\\lib\\site-packages (from astro-eddy==1.2.2) (1.20.1)\n",
      "Requirement already satisfied: matplotlib in c:\\users\\asus\\anaconda3\\lib\\site-packages (from astro-eddy==1.2.2) (3.3.4)\n",
      "Requirement already satisfied: emcee>=3 in c:\\users\\asus\\anaconda3\\lib\\site-packages (from astro-eddy==1.2.2) (3.0.2)\n",
      "Requirement already satisfied: python-dateutil>=2.1 in c:\\users\\asus\\anaconda3\\lib\\site-packages (from matplotlib->astro-eddy==1.2.2) (2.8.1)\n",
      "Requirement already satisfied: pyparsing!=2.0.4,!=2.1.2,!=2.1.6,>=2.0.3 in c:\\users\\asus\\anaconda3\\lib\\site-packages (from matplotlib->astro-eddy==1.2.2) (2.4.7)\n",
      "Requirement already satisfied: pillow>=6.2.0 in c:\\users\\asus\\anaconda3\\lib\\site-packages (from matplotlib->astro-eddy==1.2.2) (8.2.0)\n",
      "Requirement already satisfied: cycler>=0.10 in c:\\users\\asus\\anaconda3\\lib\\site-packages (from matplotlib->astro-eddy==1.2.2) (0.10.0)\n",
      "Requirement already satisfied: kiwisolver>=1.0.1 in c:\\users\\asus\\anaconda3\\lib\\site-packages (from matplotlib->astro-eddy==1.2.2) (1.3.1)\n",
      "Requirement already satisfied: six in c:\\users\\asus\\anaconda3\\lib\\site-packages (from cycler>=0.10->matplotlib->astro-eddy==1.2.2) (1.15.0)\n"
     ]
    }
   ],
   "source": [
    "!pip install astro-eddy==1.2.2"
   ]
  },
  {
   "cell_type": "code",
   "execution_count": 2,
   "id": "915081e3",
   "metadata": {},
   "outputs": [
    {
     "name": "stdout",
     "output_type": "stream",
     "text": [
      "Requirement already satisfied: bettermoments==1.2.1 in c:\\users\\asus\\anaconda3\\lib\\site-packages (1.2.1)\n",
      "Collecting argparse\n",
      "  Using cached argparse-1.4.0-py2.py3-none-any.whl (23 kB)\n",
      "Requirement already satisfied: astropy in c:\\users\\asus\\anaconda3\\lib\\site-packages (from bettermoments==1.2.1) (4.2.1)\n",
      "Requirement already satisfied: numpy in c:\\users\\asus\\anaconda3\\lib\\site-packages (from bettermoments==1.2.1) (1.20.1)\n",
      "Requirement already satisfied: pyerfa in c:\\users\\asus\\anaconda3\\lib\\site-packages (from astropy->bettermoments==1.2.1) (1.7.3)\n",
      "Installing collected packages: argparse\n",
      "Successfully installed argparse-1.4.0\n"
     ]
    }
   ],
   "source": [
    "!pip install bettermoments==1.2.1"
   ]
  },
  {
   "cell_type": "code",
   "execution_count": 3,
   "id": "99d3c26a",
   "metadata": {},
   "outputs": [
    {
     "name": "stdout",
     "output_type": "stream",
     "text": [
      "Collecting celerite\n",
      "  Using cached celerite-0.4.0-cp38-cp38-win_amd64.whl (311 kB)\n",
      "Requirement already satisfied: pybind11 in c:\\users\\asus\\anaconda3\\lib\\site-packages (from celerite) (2.6.2)\n",
      "Requirement already satisfied: numpy in c:\\users\\asus\\anaconda3\\lib\\site-packages (from celerite) (1.20.1)\n",
      "Installing collected packages: celerite\n"
     ]
    },
    {
     "name": "stderr",
     "output_type": "stream",
     "text": [
      "ERROR: Could not install packages due to an OSError: [WinError 5] Access is denied: 'C:\\\\Users\\\\ASUS\\\\anaconda3\\\\Lib\\\\site-packages\\\\celerite\\\\solver.cp38-win_amd64.pyd'\n",
      "Consider using the `--user` option or check the permissions.\n",
      "\n"
     ]
    }
   ],
   "source": [
    "!pip install celerite"
   ]
  },
  {
   "cell_type": "code",
   "execution_count": null,
   "id": "5dc1d97f",
   "metadata": {},
   "outputs": [],
   "source": []
  }
 ],
 "metadata": {
  "kernelspec": {
   "display_name": "Python 3",
   "language": "python",
   "name": "python3"
  },
  "language_info": {
   "codemirror_mode": {
    "name": "ipython",
    "version": 3
   },
   "file_extension": ".py",
   "mimetype": "text/x-python",
   "name": "python",
   "nbconvert_exporter": "python",
   "pygments_lexer": "ipython3",
   "version": "3.8.8"
  }
 },
 "nbformat": 4,
 "nbformat_minor": 5
}
