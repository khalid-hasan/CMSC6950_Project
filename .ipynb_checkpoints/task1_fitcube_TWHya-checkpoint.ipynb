{
 "cells": [
  {
   "cell_type": "code",
   "execution_count": 1,
   "id": "4d1fc7c2",
   "metadata": {},
   "outputs": [
    {
     "name": "stdout",
     "output_type": "stream",
     "text": [
      "Requirement already satisfied: astro-eddy==1.2.2 in c:\\users\\asus\\anaconda3\\lib\\site-packages (1.2.2)\n",
      "Requirement already satisfied: corner>=2 in c:\\users\\asus\\anaconda3\\lib\\site-packages (from astro-eddy==1.2.2) (2.2.1)\n",
      "Requirement already satisfied: scipy>=1 in c:\\users\\asus\\anaconda3\\lib\\site-packages (from astro-eddy==1.2.2) (1.6.2)\n",
      "Requirement already satisfied: numpy in c:\\users\\asus\\anaconda3\\lib\\site-packages (from astro-eddy==1.2.2) (1.20.1)\n",
      "Requirement already satisfied: matplotlib in c:\\users\\asus\\anaconda3\\lib\\site-packages (from astro-eddy==1.2.2) (3.3.4)\n",
      "Requirement already satisfied: emcee>=3 in c:\\users\\asus\\anaconda3\\lib\\site-packages (from astro-eddy==1.2.2) (3.0.2)\n",
      "Requirement already satisfied: python-dateutil>=2.1 in c:\\users\\asus\\anaconda3\\lib\\site-packages (from matplotlib->astro-eddy==1.2.2) (2.8.1)\n",
      "Requirement already satisfied: pyparsing!=2.0.4,!=2.1.2,!=2.1.6,>=2.0.3 in c:\\users\\asus\\anaconda3\\lib\\site-packages (from matplotlib->astro-eddy==1.2.2) (2.4.7)\n",
      "Requirement already satisfied: pillow>=6.2.0 in c:\\users\\asus\\anaconda3\\lib\\site-packages (from matplotlib->astro-eddy==1.2.2) (8.2.0)\n",
      "Requirement already satisfied: cycler>=0.10 in c:\\users\\asus\\anaconda3\\lib\\site-packages (from matplotlib->astro-eddy==1.2.2) (0.10.0)\n",
      "Requirement already satisfied: kiwisolver>=1.0.1 in c:\\users\\asus\\anaconda3\\lib\\site-packages (from matplotlib->astro-eddy==1.2.2) (1.3.1)\n",
      "Requirement already satisfied: six in c:\\users\\asus\\anaconda3\\lib\\site-packages (from cycler>=0.10->matplotlib->astro-eddy==1.2.2) (1.15.0)\n"
     ]
    }
   ],
   "source": [
    "!pip install astro-eddy==1.2.2"
   ]
  },
  {
   "cell_type": "code",
   "execution_count": 2,
   "id": "915081e3",
   "metadata": {},
   "outputs": [
    {
     "name": "stdout",
     "output_type": "stream",
     "text": [
      "Requirement already satisfied: bettermoments==1.2.1 in c:\\users\\asus\\anaconda3\\lib\\site-packages (1.2.1)\n",
      "Collecting argparse\n",
      "  Using cached argparse-1.4.0-py2.py3-none-any.whl (23 kB)\n",
      "Requirement already satisfied: astropy in c:\\users\\asus\\anaconda3\\lib\\site-packages (from bettermoments==1.2.1) (4.2.1)\n",
      "Requirement already satisfied: numpy in c:\\users\\asus\\anaconda3\\lib\\site-packages (from bettermoments==1.2.1) (1.20.1)\n",
      "Requirement already satisfied: pyerfa in c:\\users\\asus\\anaconda3\\lib\\site-packages (from astropy->bettermoments==1.2.1) (1.7.3)\n",
      "Installing collected packages: argparse\n",
      "Successfully installed argparse-1.4.0\n"
     ]
    }
   ],
   "source": [
    "!pip install bettermoments==1.2.1"
   ]
  },
  {
   "cell_type": "code",
   "execution_count": 1,
   "id": "99d3c26a",
   "metadata": {},
   "outputs": [
    {
     "name": "stdout",
     "output_type": "stream",
     "text": [
      "Collecting celerite\n",
      "  Using cached celerite-0.4.0-cp38-cp38-win_amd64.whl (311 kB)\n",
      "Requirement already satisfied: pybind11 in c:\\users\\asus\\anaconda3\\lib\\site-packages (from celerite) (2.6.2)\n",
      "Requirement already satisfied: numpy in c:\\users\\asus\\anaconda3\\lib\\site-packages (from celerite) (1.20.1)\n",
      "Installing collected packages: celerite\n",
      "Successfully installed celerite-0.4.0\n"
     ]
    }
   ],
   "source": [
    "!pip install celerite"
   ]
  },
  {
   "cell_type": "code",
   "execution_count": 2,
   "id": "5dc1d97f",
   "metadata": {},
   "outputs": [],
   "source": [
    "import matplotlib.pyplot as plt\n",
    "from astropy.io import fits\n",
    "import numpy as np\n",
    "from eddy import rotationmap\n",
    "np.random.seed(123)"
   ]
  },
  {
   "cell_type": "code",
   "execution_count": 9,
   "id": "bcf0f6bc",
   "metadata": {},
   "outputs": [],
   "source": [
    "hdul = fits.open('TWHya_CO_cube_v0.fits', memmap=True)"
   ]
  },
  {
   "cell_type": "code",
   "execution_count": 10,
   "id": "7288017e",
   "metadata": {},
   "outputs": [
    {
     "name": "stdout",
     "output_type": "stream",
     "text": [
      "Filename: TWHya_CO_cube_v0.fits\n",
      "No.    Name      Ver    Type      Cards   Dimensions   Format\n",
      "  0  PRIMARY       1 PrimaryHDU      22   (2000, 2000)   float64   \n"
     ]
    }
   ],
   "source": [
    "hdul.info()"
   ]
  },
  {
   "cell_type": "code",
   "execution_count": 11,
   "id": "8ff0f556",
   "metadata": {},
   "outputs": [
    {
     "data": {
      "text/plain": [
       "SIMPLE  =                    T / conforms to FITS standard                      \n",
       "BITPIX  =                  -64 / array data type                                \n",
       "NAXIS   =                    2 / number of array dimensions                     \n",
       "NAXIS1  =                 2000                                                  \n",
       "NAXIS2  =                 2000                                                  \n",
       "BMAJ    =    3.85393616226E-05                                                  \n",
       "BMIN    =   3.638029512432E-05                                                  \n",
       "BPA     =        -74.962059021                                                  \n",
       "BUNIT   = 'm/s     '                                                            \n",
       "CTYPE1  = 'RA---SIN'                                                            \n",
       "CRVAL1  =         165.46590625                                                  \n",
       "CDELT1  =  -2.777777777778E-06                                                  \n",
       "CRPIX1  =               1001.0                                                  \n",
       "CUNIT1  = 'deg     '                                                            \n",
       "CTYPE2  = 'DEC--SIN'                                                            \n",
       "CRVAL2  =      -34.70479213889                                                  \n",
       "CDELT2  =   2.777777777778E-06                                                  \n",
       "CRPIX2  =               1001.0                                                  \n",
       "CUNIT2  = 'deg     '                                                            \n",
       "RESTFRQ =       345795990000.0                                                  \n",
       "SPECSYS = 'LSRK    '                                                            \n",
       "COMMENT made with bettermoments                                                 "
      ]
     },
     "execution_count": 11,
     "metadata": {},
     "output_type": "execute_result"
    }
   ],
   "source": [
    "hdul[0].header"
   ]
  },
  {
   "cell_type": "code",
   "execution_count": 6,
   "id": "b7b77335",
   "metadata": {},
   "outputs": [],
   "source": [
    "data = hdul[0].data"
   ]
  },
  {
   "cell_type": "code",
   "execution_count": 12,
   "id": "40c4481f",
   "metadata": {},
   "outputs": [
    {
     "data": {
      "text/plain": [
       "(2000, 2000)"
      ]
     },
     "execution_count": 12,
     "metadata": {},
     "output_type": "execute_result"
    }
   ],
   "source": [
    "data.shape"
   ]
  },
  {
   "cell_type": "code",
   "execution_count": 13,
   "id": "93474f27",
   "metadata": {},
   "outputs": [
    {
     "data": {
      "text/plain": [
       "<matplotlib.colorbar.Colorbar at 0x1e2c2d1a1f0>"
      ]
     },
     "execution_count": 13,
     "metadata": {},
     "output_type": "execute_result"
    },
    {
     "data": {
      "image/png": "[encoded data removed]",
      "text/plain": [
       "<Figure size 432x288 with 2 Axes>"
      ]
     },
     "metadata": {
      "needs_background": "light"
     },
     "output_type": "display_data"
    }
   ],
   "source": [
    "plt.figure()\n",
    "plt.imshow(data, cmap='gray')\n",
    "plt.colorbar()"
   ]
  },
  {
   "cell_type": "code",
   "execution_count": null,
   "id": "53e32be3",
   "metadata": {},
   "outputs": [],
   "source": []
  }
 ],
 "metadata": {
  "kernelspec": {
   "display_name": "Python 3",
   "language": "python",
   "name": "python3"
  },
  "language_info": {
   "codemirror_mode": {
    "name": "ipython",
    "version": 3
   },
   "file_extension": ".py",
   "mimetype": "text/x-python",
   "name": "python",
   "nbconvert_exporter": "python",
   "pygments_lexer": "ipython3",
   "version": "3.8.8"
  }
 },
 "nbformat": 4,
 "nbformat_minor": 5
}
