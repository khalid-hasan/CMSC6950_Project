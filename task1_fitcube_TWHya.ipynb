{
 "cells": [
  {
   "cell_type": "code",
   "execution_count": 1,
   "id": "4d1fc7c2",
   "metadata": {},
   "outputs": [
    {
     "name": "stdout",
     "output_type": "stream",
     "text": [
      "Requirement already satisfied: astro-eddy==1.2.2 in c:\\users\\asus\\anaconda3\\lib\\site-packages (1.2.2)\n",
      "Requirement already satisfied: corner>=2 in c:\\users\\asus\\anaconda3\\lib\\site-packages (from astro-eddy==1.2.2) (2.2.1)\n",
      "Requirement already satisfied: scipy>=1 in c:\\users\\asus\\anaconda3\\lib\\site-packages (from astro-eddy==1.2.2) (1.6.2)\n",
      "Requirement already satisfied: numpy in c:\\users\\asus\\anaconda3\\lib\\site-packages (from astro-eddy==1.2.2) (1.20.1)\n",
      "Requirement already satisfied: matplotlib in c:\\users\\asus\\anaconda3\\lib\\site-packages (from astro-eddy==1.2.2) (3.3.4)\n",
      "Requirement already satisfied: emcee>=3 in c:\\users\\asus\\anaconda3\\lib\\site-packages (from astro-eddy==1.2.2) (3.0.2)\n",
      "Requirement already satisfied: python-dateutil>=2.1 in c:\\users\\asus\\anaconda3\\lib\\site-packages (from matplotlib->astro-eddy==1.2.2) (2.8.1)\n",
      "Requirement already satisfied: pyparsing!=2.0.4,!=2.1.2,!=2.1.6,>=2.0.3 in c:\\users\\asus\\anaconda3\\lib\\site-packages (from matplotlib->astro-eddy==1.2.2) (2.4.7)\n",
      "Requirement already satisfied: pillow>=6.2.0 in c:\\users\\asus\\anaconda3\\lib\\site-packages (from matplotlib->astro-eddy==1.2.2) (8.2.0)\n",
      "Requirement already satisfied: cycler>=0.10 in c:\\users\\asus\\anaconda3\\lib\\site-packages (from matplotlib->astro-eddy==1.2.2) (0.10.0)\n",
      "Requirement already satisfied: kiwisolver>=1.0.1 in c:\\users\\asus\\anaconda3\\lib\\site-packages (from matplotlib->astro-eddy==1.2.2) (1.3.1)\n",
      "Requirement already satisfied: six in c:\\users\\asus\\anaconda3\\lib\\site-packages (from cycler>=0.10->matplotlib->astro-eddy==1.2.2) (1.15.0)\n"
     ]
    }
   ],
   "source": [
    "!pip install astro-eddy==1.2.2"
   ]
  },
  {
   "cell_type": "code",
   "execution_count": 2,
   "id": "915081e3",
   "metadata": {},
   "outputs": [
    {
     "name": "stdout",
     "output_type": "stream",
     "text": [
      "Requirement already satisfied: bettermoments==1.2.1 in c:\\users\\asus\\anaconda3\\lib\\site-packages (1.2.1)\n",
      "Collecting argparse\n",
      "  Using cached argparse-1.4.0-py2.py3-none-any.whl (23 kB)\n",
      "Requirement already satisfied: astropy in c:\\users\\asus\\anaconda3\\lib\\site-packages (from bettermoments==1.2.1) (4.2.1)\n",
      "Requirement already satisfied: numpy in c:\\users\\asus\\anaconda3\\lib\\site-packages (from bettermoments==1.2.1) (1.20.1)\n",
      "Requirement already satisfied: pyerfa in c:\\users\\asus\\anaconda3\\lib\\site-packages (from astropy->bettermoments==1.2.1) (1.7.3)\n",
      "Installing collected packages: argparse\n",
      "Successfully installed argparse-1.4.0\n"
     ]
    }
   ],
   "source": [
    "!pip install bettermoments==1.2.1"
   ]
  },
  {
   "cell_type": "code",
   "execution_count": 1,
   "id": "99d3c26a",
   "metadata": {},
   "outputs": [
    {
     "name": "stdout",
     "output_type": "stream",
     "text": [
      "Collecting celerite\n",
      "  Using cached celerite-0.4.0-cp38-cp38-win_amd64.whl (311 kB)\n",
      "Requirement already satisfied: pybind11 in c:\\users\\asus\\anaconda3\\lib\\site-packages (from celerite) (2.6.2)\n",
      "Requirement already satisfied: numpy in c:\\users\\asus\\anaconda3\\lib\\site-packages (from celerite) (1.20.1)\n",
      "Installing collected packages: celerite\n",
      "Successfully installed celerite-0.4.0\n"
     ]
    }
   ],
   "source": [
    "!pip install celerite"
   ]
  },
  {
   "cell_type": "code",
   "execution_count": 2,
   "id": "5dc1d97f",
   "metadata": {},
   "outputs": [],
   "source": [
    "import matplotlib.pyplot as plt\n",
    "from astropy.io import fits\n",
    "import numpy as np\n",
    "from eddy import rotationmap\n",
    "np.random.seed(123)"
   ]
  },
  {
   "cell_type": "code",
   "execution_count": 9,
   "id": "f2eb94cb",
   "metadata": {},
   "outputs": [],
   "source": [
    "hdul = fits.open('TWHya_CO_cube_v0.fits', memmap=True)"
   ]
  },
  {
   "cell_type": "code",
   "execution_count": 10,
   "id": "1dac7333",
   "metadata": {},
   "outputs": [
    {
     "name": "stdout",
     "output_type": "stream",
     "text": [
      "Filename: TWHya_CO_cube_v0.fits\n",
      "No.    Name      Ver    Type      Cards   Dimensions   Format\n",
      "  0  PRIMARY       1 PrimaryHDU      22   (2000, 2000)   float64   \n"
     ]
    }
   ],
   "source": [
    "hdul.info()"
   ]
  },
  {
   "cell_type": "code",
   "execution_count": 11,
   "id": "9ae7f1b2",
   "metadata": {},
   "outputs": [
    {
     "data": {
      "text/plain": [
       "SIMPLE  =                    T / conforms to FITS standard                      \n",
       "BITPIX  =                  -64 / array data type                                \n",
       "NAXIS   =                    2 / number of array dimensions                     \n",
       "NAXIS1  =                 2000                                                  \n",
       "NAXIS2  =                 2000                                                  \n",
       "BMAJ    =    3.85393616226E-05                                                  \n",
       "BMIN    =   3.638029512432E-05                                                  \n",
       "BPA     =        -74.962059021                                                  \n",
       "BUNIT   = 'm/s     '                                                            \n",
       "CTYPE1  = 'RA---SIN'                                                            \n",
       "CRVAL1  =         165.46590625                                                  \n",
       "CDELT1  =  -2.777777777778E-06                                                  \n",
       "CRPIX1  =               1001.0                                                  \n",
       "CUNIT1  = 'deg     '                                                            \n",
       "CTYPE2  = 'DEC--SIN'                                                            \n",
       "CRVAL2  =      -34.70479213889                                                  \n",
       "CDELT2  =   2.777777777778E-06                                                  \n",
       "CRPIX2  =               1001.0                                                  \n",
       "CUNIT2  = 'deg     '                                                            \n",
       "RESTFRQ =       345795990000.0                                                  \n",
       "SPECSYS = 'LSRK    '                                                            \n",
       "COMMENT made with bettermoments                                                 "
      ]
     },
     "execution_count": 11,
     "metadata": {},
     "output_type": "execute_result"
    }
   ],
   "source": [
    "hdul[0].header"
   ]
  },
  {
   "cell_type": "code",
   "execution_count": 6,
   "id": "784cc9e7",
   "metadata": {},
   "outputs": [],
   "source": [
    "data = hdul[0].data"
   ]
  },
  {
   "cell_type": "code",
   "execution_count": 12,
   "id": "307dd5aa",
   "metadata": {},
   "outputs": [
    {
     "data": {
      "text/plain": [
       "(2000, 2000)"
      ]
     },
     "execution_count": 12,
     "metadata": {},
     "output_type": "execute_result"
    }
   ],
   "source": [
    "data.shape"
   ]
  },
  {
   "cell_type": "code",
   "execution_count": 38,
   "id": "e87c20eb",
   "metadata": {},
   "outputs": [
    {
     "data": {
      "image/png": "[encoded data removed]",
      "text/plain": [
       "<Figure size 432x288 with 2 Axes>"
      ]
     },
     "metadata": {
      "needs_background": "light"
     },
     "output_type": "display_data"
    }
   ],
   "source": [
    "plt.figure()\n",
    "plt.imshow(data, cmap='gray')\n",
    "plt.colorbar()\n",
    "plt.savefig('TWHya_image.png')"
   ]
  },
  {
   "cell_type": "code",
   "execution_count": 39,
   "id": "2a55eff0",
   "metadata": {},
   "outputs": [
    {
     "data": {
      "image/png": "[encoded data removed]",
      "text/plain": [
       "<Figure size 432x288 with 2 Axes>"
      ]
     },
     "metadata": {
      "needs_background": "light"
     },
     "output_type": "display_data"
    }
   ],
   "source": [
    "# Load Data from FITS file\n",
    "cube = rotationmap(path='TWHya_CO_cube_v0.fits',\n",
    "                   uncertainty='TWHya_CO_cube_dv0.fits',\n",
    "                   downsample='beam',\n",
    "                   clip=2.0)\n",
    "# Plot Data\n",
    "fig, ax = plt.subplots()\n",
    "levels = np.nanpercentile(cube.data, [2, 98]) - cube.vlsr\n",
    "levels = max(abs(levels[0]), abs(levels[1]))\n",
    "levels = cube.vlsr + np.linspace(-levels, levels, 30)\n",
    "im = ax.contourf(cube.xaxis, cube.yaxis, cube.data, levels,\n",
    "                 cmap=rotationmap.colormap(), extend='both', zorder=-9)\n",
    "cb = plt.colorbar(im, pad=0.03, format='%.2f')\n",
    "cb.minorticks_on()\n",
    "cb.set_label(r'${\\rm v_{0} \\quad (km\\,s^{-1})}$',\n",
    "             rotation=270, labelpad=15)\n",
    "plt.savefig('TWHya_rotatemap.png')"
   ]
  },
  {
   "cell_type": "code",
   "execution_count": 19,
   "id": "6ba9e6de",
   "metadata": {},
   "outputs": [],
   "source": [
    "params = {}\n",
    "\n",
    "params['x0'] = 0\n",
    "params['y0'] = 1\n",
    "params['PA'] = 2\n",
    "params['mstar'] = 3\n",
    "params['vlsr'] = 4\n",
    "\n",
    "p0 = [0.0, 0.0, 151., 0.65, 2.8e3]\n",
    "\n",
    "params['inc'] = 6.8     # degrees\n",
    "params['dist'] = 60.1   # parsec\n",
    "\n",
    "params['r_min'] = 2.0 * cube.bmaj\n",
    "params['r_max'] = 3.25"
   ]
  },
  {
   "cell_type": "code",
   "execution_count": 36,
   "id": "f336b560",
   "metadata": {},
   "outputs": [
    {
     "name": "stdout",
     "output_type": "stream",
     "text": [
      "Assuming:\n",
      "\tp0 = [${\\rm x0}$, ${\\rm y0}$, ${\\rm PA}$, ${\\rm mstar}$, ${\\rm vlsr}$].\n",
      "Optimized starting positions:\n",
      "\tp0 = ['-2.62e-03', '1.91e-02', '1.51e+02', '5.96e-01', '2.84e+03']\n"
     ]
    },
    {
     "name": "stderr",
     "output_type": "stream",
     "text": [
      "100%|████████████████████████████████████████████████████████████████████████████████| 300/300 [00:04<00:00, 66.32it/s]\n"
     ]
    },
    {
     "data": {
      "image/png": "[encoded data removed]",
      "text/plain": [
       "<Figure size 432x288 with 2 Axes>"
      ]
     },
     "metadata": {
      "needs_background": "light"
     },
     "output_type": "display_data"
    }
   ],
   "source": [
    "percentiles = cube.fit_map(p0=p0, params=params, nwalkers=16, nburnin=200, nsteps=100, plots=\"mask\", returns=\"dict\")"
   ]
  },
  {
   "cell_type": "code",
   "execution_count": 24,
   "id": "bebe7cca",
   "metadata": {},
   "outputs": [
    {
     "data": {
      "text/plain": [
       "{'PA': 151.19348836044222,\n",
       " 'mstar': 0.5957680261192716,\n",
       " 'inc': 6.8,\n",
       " 'r_min': 0.0,\n",
       " 'r_max': 100000.0,\n",
       " 'vfunc': <bound method rotationmap._proj_vkep of <eddy.fit_cube.rotationmap object at 0x000001E2C2D55610>>,\n",
       " 'beam': False,\n",
       " 'exclude_r': False,\n",
       " 'PA_min': -3.141592653589793,\n",
       " 'PA_max': 3.141592653589793,\n",
       " 'exclude_PA': False,\n",
       " 'abs_PA': False,\n",
       " 'x0': -0.002403720174998268,\n",
       " 'y0': 0.019127200200593185,\n",
       " 'dist': 60.1,\n",
       " 'vlsr': 2840.6828437157833,\n",
       " 'vp_q': -0.5,\n",
       " 'vr_100': 0.0,\n",
       " 'vr_q': 0.0,\n",
       " 'z0': 0.0,\n",
       " 'psi': 1.0,\n",
       " 'z1': 0.0,\n",
       " 'phi': 1.0,\n",
       " 'w_i': 0.0,\n",
       " 'w_r': 1.0,\n",
       " 'w_t': 0.0,\n",
       " 'shadowed': False}"
      ]
     },
     "execution_count": 24,
     "metadata": {},
     "output_type": "execute_result"
    }
   ],
   "source": [
    "percentiles"
   ]
  },
  {
   "cell_type": "code",
   "execution_count": 30,
   "id": "c6bd4c63",
   "metadata": {},
   "outputs": [
    {
     "name": "stdout",
     "output_type": "stream",
     "text": [
      "Source Center (x0, y0):  (-0.002403720174998268, 0.019127200200593185)\n",
      "Position angle of the disk (PA):  151.19348836044222\n",
      "Stellar Mass (MSTAR):  0.5957680261192716\n",
      "Systemic Velocity (VLSR):  2840.6828437157833\n"
     ]
    }
   ],
   "source": [
    "print(\"Source Center (x0, y0): \", (percentiles['x0'], percentiles['y0']))\n",
    "print(\"Position angle of the disk (PA): \", percentiles['PA'])\n",
    "print(\"Stellar Mass (MSTAR): \", percentiles['mstar'])\n",
    "print(\"Systemic Velocity (VLSR): \", percentiles['vlsr'])"
   ]
  },
  {
   "cell_type": "code",
   "execution_count": null,
   "id": "a4a73784",
   "metadata": {},
   "outputs": [],
   "source": []
  }
 ],
 "metadata": {
  "kernelspec": {
   "display_name": "Python 3",
   "language": "python",
   "name": "python3"
  },
  "language_info": {
   "codemirror_mode": {
    "name": "ipython",
    "version": 3
   },
   "file_extension": ".py",
   "mimetype": "text/x-python",
   "name": "python",
   "nbconvert_exporter": "python",
   "pygments_lexer": "ipython3",
   "version": "3.8.8"
  }
 },
 "nbformat": 4,
 "nbformat_minor": 5
}
