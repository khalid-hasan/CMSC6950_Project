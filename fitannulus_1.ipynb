{
 "cells": [
  {
   "cell_type": "code",
   "execution_count": 7,
   "id": "9cb5f1bd",
   "metadata": {},
   "outputs": [
    {
     "name": "stdout",
     "output_type": "stream",
     "text": [
      "Requirement already satisfied: astro-eddy in c:\\users\\asus\\anaconda3\\lib\\site-packages (1.3.8)\n",
      "Requirement already satisfied: numpy in c:\\users\\asus\\anaconda3\\lib\\site-packages (from astro-eddy) (1.20.1)\n",
      "Requirement already satisfied: zeus-mcmc in c:\\users\\asus\\anaconda3\\lib\\site-packages (from astro-eddy) (2.3.0)\n",
      "Requirement already satisfied: emcee>=3 in c:\\users\\asus\\anaconda3\\lib\\site-packages (from astro-eddy) (3.0.2)\n",
      "Requirement already satisfied: scipy>=1 in c:\\users\\asus\\anaconda3\\lib\\site-packages (from astro-eddy) (1.6.2)\n",
      "Requirement already satisfied: corner>=2 in c:\\users\\asus\\anaconda3\\lib\\site-packages (from astro-eddy) (2.2.1)\n",
      "Requirement already satisfied: matplotlib>=3 in c:\\users\\asus\\anaconda3\\lib\\site-packages (from astro-eddy) (3.3.4)\n",
      "Requirement already satisfied: cycler>=0.10 in c:\\users\\asus\\anaconda3\\lib\\site-packages (from matplotlib>=3->astro-eddy) (0.10.0)\n",
      "Requirement already satisfied: pyparsing!=2.0.4,!=2.1.2,!=2.1.6,>=2.0.3 in c:\\users\\asus\\anaconda3\\lib\\site-packages (from matplotlib>=3->astro-eddy) (2.4.7)\n",
      "Requirement already satisfied: kiwisolver>=1.0.1 in c:\\users\\asus\\anaconda3\\lib\\site-packages (from matplotlib>=3->astro-eddy) (1.3.1)\n",
      "Requirement already satisfied: pillow>=6.2.0 in c:\\users\\asus\\anaconda3\\lib\\site-packages (from matplotlib>=3->astro-eddy) (8.2.0)\n",
      "Requirement already satisfied: python-dateutil>=2.1 in c:\\users\\asus\\anaconda3\\lib\\site-packages (from matplotlib>=3->astro-eddy) (2.8.1)\n",
      "Requirement already satisfied: six in c:\\users\\asus\\anaconda3\\lib\\site-packages (from cycler>=0.10->matplotlib>=3->astro-eddy) (1.15.0)\n",
      "Requirement already satisfied: seaborn in c:\\users\\asus\\anaconda3\\lib\\site-packages (from zeus-mcmc->astro-eddy) (0.11.1)\n",
      "Requirement already satisfied: pytest in c:\\users\\asus\\anaconda3\\lib\\site-packages (from zeus-mcmc->astro-eddy) (6.2.3)\n",
      "Requirement already satisfied: setuptools in c:\\users\\asus\\anaconda3\\lib\\site-packages (from zeus-mcmc->astro-eddy) (52.0.0.post20210125)\n",
      "Requirement already satisfied: tqdm in c:\\users\\asus\\anaconda3\\lib\\site-packages (from zeus-mcmc->astro-eddy) (4.59.0)\n",
      "Requirement already satisfied: sklearn in c:\\users\\asus\\anaconda3\\lib\\site-packages (from zeus-mcmc->astro-eddy) (0.0)\n",
      "Requirement already satisfied: attrs>=19.2.0 in c:\\users\\asus\\anaconda3\\lib\\site-packages (from pytest->zeus-mcmc->astro-eddy) (20.3.0)\n",
      "Requirement already satisfied: iniconfig in c:\\users\\asus\\anaconda3\\lib\\site-packages (from pytest->zeus-mcmc->astro-eddy) (1.1.1)\n",
      "Requirement already satisfied: packaging in c:\\users\\asus\\anaconda3\\lib\\site-packages (from pytest->zeus-mcmc->astro-eddy) (20.9)\n",
      "Requirement already satisfied: pluggy<1.0.0a1,>=0.12 in c:\\users\\asus\\anaconda3\\lib\\site-packages (from pytest->zeus-mcmc->astro-eddy) (0.13.1)\n",
      "Requirement already satisfied: py>=1.8.2 in c:\\users\\asus\\anaconda3\\lib\\site-packages (from pytest->zeus-mcmc->astro-eddy) (1.10.0)\n",
      "Requirement already satisfied: toml in c:\\users\\asus\\anaconda3\\lib\\site-packages (from pytest->zeus-mcmc->astro-eddy) (0.10.2)\n",
      "Requirement already satisfied: atomicwrites>=1.0 in c:\\users\\asus\\anaconda3\\lib\\site-packages (from pytest->zeus-mcmc->astro-eddy) (1.4.0)\n",
      "Requirement already satisfied: colorama in c:\\users\\asus\\anaconda3\\lib\\site-packages (from pytest->zeus-mcmc->astro-eddy) (0.4.4)\n",
      "Requirement already satisfied: pandas>=0.23 in c:\\users\\asus\\anaconda3\\lib\\site-packages (from seaborn->zeus-mcmc->astro-eddy) (1.2.4)\n",
      "Requirement already satisfied: pytz>=2017.3 in c:\\users\\asus\\anaconda3\\lib\\site-packages (from pandas>=0.23->seaborn->zeus-mcmc->astro-eddy) (2021.1)\n",
      "Requirement already satisfied: scikit-learn in c:\\users\\asus\\anaconda3\\lib\\site-packages (from sklearn->zeus-mcmc->astro-eddy) (0.24.1)\n",
      "Requirement already satisfied: threadpoolctl>=2.0.0 in c:\\users\\asus\\anaconda3\\lib\\site-packages (from scikit-learn->sklearn->zeus-mcmc->astro-eddy) (2.1.0)\n",
      "Requirement already satisfied: joblib>=0.11 in c:\\users\\asus\\anaconda3\\lib\\site-packages (from scikit-learn->sklearn->zeus-mcmc->astro-eddy) (1.0.1)\n"
     ]
    }
   ],
   "source": [
    "!pip install astro-eddy"
   ]
  },
  {
   "cell_type": "code",
   "execution_count": 8,
   "id": "aaaf5f33",
   "metadata": {},
   "outputs": [
    {
     "name": "stdout",
     "output_type": "stream",
     "text": [
      "Collecting celerite\n",
      "  Downloading celerite-0.4.0-cp38-cp38-win_amd64.whl (311 kB)\n",
      "Collecting pybind11\n",
      "  Downloading pybind11-2.6.2-py2.py3-none-any.whl (191 kB)\n",
      "Requirement already satisfied: numpy in c:\\users\\asus\\anaconda3\\lib\\site-packages (from celerite) (1.20.1)\n",
      "Installing collected packages: pybind11, celerite\n",
      "Successfully installed celerite-0.4.0 pybind11-2.6.2\n"
     ]
    }
   ],
   "source": [
    "!pip install celerite"
   ]
  },
  {
   "cell_type": "code",
   "execution_count": 14,
   "id": "2e35b337",
   "metadata": {},
   "outputs": [
    {
     "name": "stdout",
     "output_type": "stream",
     "text": [
      "Collecting bettermoments\n",
      "  Downloading bettermoments-1.5.0.tar.gz (15 kB)\n",
      "Requirement already satisfied: numpy in c:\\users\\asus\\anaconda3\\lib\\site-packages (from bettermoments) (1.20.1)\n",
      "Requirement already satisfied: astropy in c:\\users\\asus\\anaconda3\\lib\\site-packages (from bettermoments) (4.2.1)\n",
      "Collecting argparse\n",
      "  Downloading argparse-1.4.0-py2.py3-none-any.whl (23 kB)\n",
      "Requirement already satisfied: tqdm in c:\\users\\asus\\anaconda3\\lib\\site-packages (from bettermoments) (4.59.0)\n",
      "Requirement already satisfied: pyerfa in c:\\users\\asus\\anaconda3\\lib\\site-packages (from astropy->bettermoments) (1.7.3)\n",
      "Building wheels for collected packages: bettermoments\n",
      "  Building wheel for bettermoments (setup.py): started\n",
      "  Building wheel for bettermoments (setup.py): finished with status 'done'\n",
      "  Created wheel for bettermoments: filename=bettermoments-1.5.0-py3-none-any.whl size=16177 sha256=d46e7e6172bbb39bf8fb000f8fbc1c706cc81d3685377ec540bd6acfc152ce84\n",
      "  Stored in directory: c:\\users\\asus\\appdata\\local\\pip\\cache\\wheels\\77\\90\\af\\ea51e4afdd8c9eaba15be2f92e8fc349a7003ffd1827b4aefa\n",
      "Successfully built bettermoments\n",
      "Installing collected packages: argparse, bettermoments\n",
      "Successfully installed argparse-1.4.0 bettermoments-1.5.0\n"
     ]
    }
   ],
   "source": [
    "!pip install bettermoments"
   ]
  },
  {
   "cell_type": "code",
   "execution_count": 16,
   "id": "a77bfa51",
   "metadata": {},
   "outputs": [
    {
     "ename": "ModuleNotFoundError",
     "evalue": "No module named 'eddy.fit_annulus'",
     "output_type": "error",
     "traceback": [
      "\u001b[1;31m---------------------------------------------------------------------------\u001b[0m",
      "\u001b[1;31mModuleNotFoundError\u001b[0m                       Traceback (most recent call last)",
      "\u001b[1;32m<ipython-input-16-6a1b49117dcc>\u001b[0m in \u001b[0;36m<module>\u001b[1;34m\u001b[0m\n\u001b[0;32m      1\u001b[0m \u001b[0mget_ipython\u001b[0m\u001b[1;33m(\u001b[0m\u001b[1;33m)\u001b[0m\u001b[1;33m.\u001b[0m\u001b[0mrun_line_magic\u001b[0m\u001b[1;33m(\u001b[0m\u001b[1;34m'matplotlib'\u001b[0m\u001b[1;33m,\u001b[0m \u001b[1;34m'inline'\u001b[0m\u001b[1;33m)\u001b[0m\u001b[1;33m\u001b[0m\u001b[1;33m\u001b[0m\u001b[0m\n\u001b[0;32m      2\u001b[0m \u001b[1;32mimport\u001b[0m \u001b[0mmatplotlib\u001b[0m\u001b[1;33m.\u001b[0m\u001b[0mpyplot\u001b[0m \u001b[1;32mas\u001b[0m \u001b[0mplt\u001b[0m\u001b[1;33m\u001b[0m\u001b[1;33m\u001b[0m\u001b[0m\n\u001b[1;32m----> 3\u001b[1;33m \u001b[1;32mfrom\u001b[0m \u001b[0meddy\u001b[0m\u001b[1;33m.\u001b[0m\u001b[0mfit_annulus\u001b[0m \u001b[1;32mimport\u001b[0m \u001b[0mannulus\u001b[0m\u001b[1;33m\u001b[0m\u001b[1;33m\u001b[0m\u001b[0m\n\u001b[0m\u001b[0;32m      4\u001b[0m \u001b[1;32mfrom\u001b[0m \u001b[0meddy\u001b[0m\u001b[1;33m.\u001b[0m\u001b[0mmodelling\u001b[0m \u001b[1;32mimport\u001b[0m \u001b[0mgaussian_ensemble\u001b[0m\u001b[1;33m\u001b[0m\u001b[1;33m\u001b[0m\u001b[0m\n",
      "\u001b[1;31mModuleNotFoundError\u001b[0m: No module named 'eddy.fit_annulus'"
     ]
    }
   ],
   "source": [
    "%matplotlib inline\n",
    "import matplotlib.pyplot as plt\n",
    "from eddy.fit_annulus import annulus\n",
    "from eddy.modelling import gaussian_ensemble"
   ]
  },
  {
   "cell_type": "code",
   "execution_count": 17,
   "id": "d7a0393d",
   "metadata": {},
   "outputs": [
    {
     "ename": "NameError",
     "evalue": "name 'gaussian_ensemble' is not defined",
     "output_type": "error",
     "traceback": [
      "\u001b[1;31m---------------------------------------------------------------------------\u001b[0m",
      "\u001b[1;31mNameError\u001b[0m                                 Traceback (most recent call last)",
      "\u001b[1;32m<ipython-input-17-a34a0b048f05>\u001b[0m in \u001b[0;36m<module>\u001b[1;34m\u001b[0m\n\u001b[1;32m----> 1\u001b[1;33m \u001b[0mensemble\u001b[0m \u001b[1;33m=\u001b[0m \u001b[0mgaussian_ensemble\u001b[0m\u001b[1;33m(\u001b[0m\u001b[0mvrot\u001b[0m\u001b[1;33m=\u001b[0m\u001b[1;36m1500.\u001b[0m\u001b[1;33m,\u001b[0m \u001b[0mTb\u001b[0m\u001b[1;33m=\u001b[0m\u001b[1;36m40.\u001b[0m\u001b[1;33m,\u001b[0m \u001b[0mdV\u001b[0m\u001b[1;33m=\u001b[0m\u001b[1;36m350.\u001b[0m\u001b[1;33m,\u001b[0m \u001b[0mrms\u001b[0m\u001b[1;33m=\u001b[0m\u001b[1;36m2.0\u001b[0m\u001b[1;33m,\u001b[0m \u001b[0mN\u001b[0m\u001b[1;33m=\u001b[0m\u001b[1;36m20\u001b[0m\u001b[1;33m,\u001b[0m \u001b[0mplot\u001b[0m\u001b[1;33m=\u001b[0m\u001b[1;32mTrue\u001b[0m\u001b[1;33m,\u001b[0m \u001b[0mreturn_annulus\u001b[0m\u001b[1;33m=\u001b[0m\u001b[1;32mTrue\u001b[0m\u001b[1;33m)\u001b[0m\u001b[1;33m\u001b[0m\u001b[1;33m\u001b[0m\u001b[0m\n\u001b[0m",
      "\u001b[1;31mNameError\u001b[0m: name 'gaussian_ensemble' is not defined"
     ]
    }
   ],
   "source": [
    "ensemble = gaussian_ensemble(vrot=1500., Tb=40., dV=350., rms=2.0, N=20, plot=True, return_annulus=True)\n"
   ]
  },
  {
   "cell_type": "code",
   "execution_count": null,
   "id": "111ad07b",
   "metadata": {},
   "outputs": [],
   "source": []
  }
 ],
 "metadata": {
  "kernelspec": {
   "display_name": "Python 3",
   "language": "python",
   "name": "python3"
  },
  "language_info": {
   "codemirror_mode": {
    "name": "ipython",
    "version": 3
   },
   "file_extension": ".py",
   "mimetype": "text/x-python",
   "name": "python",
   "nbconvert_exporter": "python",
   "pygments_lexer": "ipython3",
   "version": "3.8.8"
  }
 },
 "nbformat": 4,
 "nbformat_minor": 5
}
